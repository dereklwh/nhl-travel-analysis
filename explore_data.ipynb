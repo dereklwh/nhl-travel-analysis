{
 "cells": [
  {
   "cell_type": "code",
   "execution_count": null,
   "metadata": {},
   "outputs": [
    {
     "data": {
      "application/vnd.microsoft.datawrangler.viewer.v0+json": {
       "columns": [
        {
         "name": "index",
         "rawType": "int64",
         "type": "integer"
        },
        {
         "name": "Team",
         "rawType": "object",
         "type": "string"
        },
        {
         "name": "League",
         "rawType": "object",
         "type": "string"
        },
        {
         "name": "Division",
         "rawType": "object",
         "type": "string"
        },
        {
         "name": "Lat",
         "rawType": "float64",
         "type": "float"
        },
        {
         "name": "Long",
         "rawType": "float64",
         "type": "float"
        }
       ],
       "ref": "e750667c-877f-4d4b-8985-580c7c83ff84",
       "rows": [
        [
         "62",
         "Tampa Bay Lightning",
         "NHL",
         "Atlantic",
         "27.9427",
         "-82.4518"
        ],
        [
         "63",
         "Dallas Stars",
         "NHL",
         "Central",
         "32.790556",
         "-96.810278"
        ],
        [
         "64",
         "Colorado Avalanche",
         "NHL",
         "Central",
         "39.7487",
         "-105.0076"
        ],
        [
         "65",
         "Montreal Canadiens",
         "NHL",
         "Atlantic",
         "45.496111",
         "-73.569444"
        ],
        [
         "66",
         "Nashville Predators",
         "NHL",
         "Central",
         "36.159167",
         "-86.778611"
        ]
       ],
       "shape": {
        "columns": 5,
        "rows": 5
       }
      },
      "text/html": [
       "<div>\n",
       "<style scoped>\n",
       "    .dataframe tbody tr th:only-of-type {\n",
       "        vertical-align: middle;\n",
       "    }\n",
       "\n",
       "    .dataframe tbody tr th {\n",
       "        vertical-align: top;\n",
       "    }\n",
       "\n",
       "    .dataframe thead th {\n",
       "        text-align: right;\n",
       "    }\n",
       "</style>\n",
       "<table border=\"1\" class=\"dataframe\">\n",
       "  <thead>\n",
       "    <tr style=\"text-align: right;\">\n",
       "      <th></th>\n",
       "      <th>Team</th>\n",
       "      <th>League</th>\n",
       "      <th>Division</th>\n",
       "      <th>Lat</th>\n",
       "      <th>Long</th>\n",
       "    </tr>\n",
       "  </thead>\n",
       "  <tbody>\n",
       "    <tr>\n",
       "      <th>62</th>\n",
       "      <td>Tampa Bay Lightning</td>\n",
       "      <td>NHL</td>\n",
       "      <td>Atlantic</td>\n",
       "      <td>27.942700</td>\n",
       "      <td>-82.451800</td>\n",
       "    </tr>\n",
       "    <tr>\n",
       "      <th>63</th>\n",
       "      <td>Dallas Stars</td>\n",
       "      <td>NHL</td>\n",
       "      <td>Central</td>\n",
       "      <td>32.790556</td>\n",
       "      <td>-96.810278</td>\n",
       "    </tr>\n",
       "    <tr>\n",
       "      <th>64</th>\n",
       "      <td>Colorado Avalanche</td>\n",
       "      <td>NHL</td>\n",
       "      <td>Central</td>\n",
       "      <td>39.748700</td>\n",
       "      <td>-105.007600</td>\n",
       "    </tr>\n",
       "    <tr>\n",
       "      <th>65</th>\n",
       "      <td>Montreal Canadiens</td>\n",
       "      <td>NHL</td>\n",
       "      <td>Atlantic</td>\n",
       "      <td>45.496111</td>\n",
       "      <td>-73.569444</td>\n",
       "    </tr>\n",
       "    <tr>\n",
       "      <th>66</th>\n",
       "      <td>Nashville Predators</td>\n",
       "      <td>NHL</td>\n",
       "      <td>Central</td>\n",
       "      <td>36.159167</td>\n",
       "      <td>-86.778611</td>\n",
       "    </tr>\n",
       "  </tbody>\n",
       "</table>\n",
       "</div>"
      ],
      "text/plain": [
       "                   Team League  Division        Lat        Long\n",
       "62  Tampa Bay Lightning    NHL  Atlantic  27.942700  -82.451800\n",
       "63         Dallas Stars    NHL   Central  32.790556  -96.810278\n",
       "64   Colorado Avalanche    NHL   Central  39.748700 -105.007600\n",
       "65   Montreal Canadiens    NHL  Atlantic  45.496111  -73.569444\n",
       "66  Nashville Predators    NHL   Central  36.159167  -86.778611"
      ]
     },
     "metadata": {},
     "output_type": "display_data"
    },
    {
     "name": "stdout",
     "output_type": "stream",
     "text": [
      "32\n",
      "['Tampa Bay Lightning' 'Dallas Stars' 'Colorado Avalanche'\n",
      " 'Montreal Canadiens' 'Nashville Predators' 'Winnipeg Jets'\n",
      " 'Ottawa Senators' 'Washington Capitals' 'Seattle Kraken'\n",
      " 'Los Angeles Kings' 'St. Louis Blues' 'Flordia Panthers'\n",
      " 'Arizona Coyotes' 'Anaheim Ducks' 'Buffalo Sabres' 'Detroit Red Wings'\n",
      " 'New York Rangers' 'Columbus Blue Jackets' 'Carolina Hurricanes'\n",
      " 'Pittsburgh Penguins' 'New Jersey Devils' 'Vancouver Canucks'\n",
      " 'Edmonton Oilers' 'San Jose Sharks' 'Toronto Maple Leafs'\n",
      " 'Calgary Flames' 'Boston Bruins' 'Vegas Golden Knights'\n",
      " 'New York Islanders' 'Chicago Blackhawks' 'Philadeliphia Flyers'\n",
      " 'Minnesota Wild']\n"
     ]
    }
   ],
   "source": [
    "import pandas as pd\n",
    "\n",
    "stadium_data = pd.read_csv('stadiums.csv')\n",
    "# display(stadium_data)\n",
    "\n",
    "nhl_stadium_data =  stadium_data[stadium_data['League'] == 'NHL']\n",
    "display(nhl_stadium_data.head())\n",
    "print(len(nhl_stadium_data))\n",
    "\n",
    "# check what teams are in the nhl\n",
    "nhl_teams = nhl_stadium_data['Team'].unique()\n",
    "print(nhl_teams)"
   ]
  },
  {
   "cell_type": "code",
   "execution_count": null,
   "metadata": {},
   "outputs": [],
   "source": [
    "# Arizona Coyotes moved to Utah as of 2024. Need to add this to the data.\n",
    "\n",
    "#TODO: get abbreviated name column for each team\n",
    "#TODO: (nice to have) get the team logo for each team"
   ]
  }
 ],
 "metadata": {
  "kernelspec": {
   "display_name": "Python 3",
   "language": "python",
   "name": "python3"
  },
  "language_info": {
   "codemirror_mode": {
    "name": "ipython",
    "version": 3
   },
   "file_extension": ".py",
   "mimetype": "text/x-python",
   "name": "python",
   "nbconvert_exporter": "python",
   "pygments_lexer": "ipython3",
   "version": "3.13.0"
  }
 },
 "nbformat": 4,
 "nbformat_minor": 2
}
